{
 "cells": [
  {
   "cell_type": "code",
   "execution_count": 1,
   "metadata": {},
   "outputs": [],
   "source": [
    "#import packages\n",
    "import pandas as pd\n",
    "import numpy as np\n",
    "import matplotlib.pyplot as plt"
   ]
  },
  {
   "cell_type": "code",
   "execution_count": 2,
   "metadata": {},
   "outputs": [
    {
     "name": "stdout",
     "output_type": "stream",
     "text": [
      "      year  month  date_of_month  day_of_week  births\n",
      "0     1994      1              1            6    8096\n",
      "1     1994      1              2            7    7772\n",
      "2     1994      1              3            1   10142\n",
      "3     1994      1              4            2   11248\n",
      "4     1994      1              5            3   11053\n",
      "...    ...    ...            ...          ...     ...\n",
      "3647  2003     12             27            6    8646\n",
      "3648  2003     12             28            7    7645\n",
      "3649  2003     12             29            1   12823\n",
      "3650  2003     12             30            2   14438\n",
      "3651  2003     12             31            3   12374\n",
      "\n",
      "[3652 rows x 5 columns]\n"
     ]
    }
   ],
   "source": [
    "#Read the csv file\n",
    "df = pd.read_csv('US_births_1994-2003_CDC_NCHS.csv')\n",
    "print(df)"
   ]
  },
  {
   "cell_type": "markdown",
   "metadata": {},
   "source": [
    "# Exploring data"
   ]
  },
  {
   "cell_type": "code",
   "execution_count": 3,
   "metadata": {},
   "outputs": [
    {
     "data": {
      "text/plain": [
       "year             int64\n",
       "month            int64\n",
       "date_of_month    int64\n",
       "day_of_week      int64\n",
       "births           int64\n",
       "dtype: object"
      ]
     },
     "execution_count": 3,
     "metadata": {},
     "output_type": "execute_result"
    }
   ],
   "source": [
    "#check the data types of array elements\n",
    "df.dtypes"
   ]
  },
  {
   "cell_type": "code",
   "execution_count": 4,
   "metadata": {},
   "outputs": [
    {
     "data": {
      "text/plain": [
       "RangeIndex(start=0, stop=3652, step=1)"
      ]
     },
     "execution_count": 4,
     "metadata": {},
     "output_type": "execute_result"
    }
   ],
   "source": [
    "#Describe index\n",
    "df.index"
   ]
  },
  {
   "cell_type": "code",
   "execution_count": 5,
   "metadata": {},
   "outputs": [
    {
     "data": {
      "text/plain": [
       "<bound method DataFrame.info of       year  month  date_of_month  day_of_week  births\n",
       "0     1994      1              1            6    8096\n",
       "1     1994      1              2            7    7772\n",
       "2     1994      1              3            1   10142\n",
       "3     1994      1              4            2   11248\n",
       "4     1994      1              5            3   11053\n",
       "...    ...    ...            ...          ...     ...\n",
       "3647  2003     12             27            6    8646\n",
       "3648  2003     12             28            7    7645\n",
       "3649  2003     12             29            1   12823\n",
       "3650  2003     12             30            2   14438\n",
       "3651  2003     12             31            3   12374\n",
       "\n",
       "[3652 rows x 5 columns]>"
      ]
     },
     "execution_count": 5,
     "metadata": {},
     "output_type": "execute_result"
    }
   ],
   "source": [
    "#Check info on dataframe\n",
    "df.info"
   ]
  },
  {
   "cell_type": "markdown",
   "metadata": {},
   "source": [
    "# Handling Missing Data"
   ]
  },
  {
   "cell_type": "code",
   "execution_count": 6,
   "metadata": {},
   "outputs": [
    {
     "data": {
      "text/html": [
       "<div>\n",
       "<style scoped>\n",
       "    .dataframe tbody tr th:only-of-type {\n",
       "        vertical-align: middle;\n",
       "    }\n",
       "\n",
       "    .dataframe tbody tr th {\n",
       "        vertical-align: top;\n",
       "    }\n",
       "\n",
       "    .dataframe thead th {\n",
       "        text-align: right;\n",
       "    }\n",
       "</style>\n",
       "<table border=\"1\" class=\"dataframe\">\n",
       "  <thead>\n",
       "    <tr style=\"text-align: right;\">\n",
       "      <th></th>\n",
       "      <th>year</th>\n",
       "      <th>month</th>\n",
       "      <th>date_of_month</th>\n",
       "      <th>day_of_week</th>\n",
       "      <th>births</th>\n",
       "    </tr>\n",
       "  </thead>\n",
       "  <tbody>\n",
       "    <tr>\n",
       "      <td>0</td>\n",
       "      <td>1994</td>\n",
       "      <td>1</td>\n",
       "      <td>1</td>\n",
       "      <td>6</td>\n",
       "      <td>8096</td>\n",
       "    </tr>\n",
       "    <tr>\n",
       "      <td>1</td>\n",
       "      <td>1994</td>\n",
       "      <td>1</td>\n",
       "      <td>2</td>\n",
       "      <td>7</td>\n",
       "      <td>7772</td>\n",
       "    </tr>\n",
       "    <tr>\n",
       "      <td>2</td>\n",
       "      <td>1994</td>\n",
       "      <td>1</td>\n",
       "      <td>3</td>\n",
       "      <td>1</td>\n",
       "      <td>10142</td>\n",
       "    </tr>\n",
       "    <tr>\n",
       "      <td>3</td>\n",
       "      <td>1994</td>\n",
       "      <td>1</td>\n",
       "      <td>4</td>\n",
       "      <td>2</td>\n",
       "      <td>11248</td>\n",
       "    </tr>\n",
       "    <tr>\n",
       "      <td>4</td>\n",
       "      <td>1994</td>\n",
       "      <td>1</td>\n",
       "      <td>5</td>\n",
       "      <td>3</td>\n",
       "      <td>11053</td>\n",
       "    </tr>\n",
       "    <tr>\n",
       "      <td>...</td>\n",
       "      <td>...</td>\n",
       "      <td>...</td>\n",
       "      <td>...</td>\n",
       "      <td>...</td>\n",
       "      <td>...</td>\n",
       "    </tr>\n",
       "    <tr>\n",
       "      <td>3647</td>\n",
       "      <td>2003</td>\n",
       "      <td>12</td>\n",
       "      <td>27</td>\n",
       "      <td>6</td>\n",
       "      <td>8646</td>\n",
       "    </tr>\n",
       "    <tr>\n",
       "      <td>3648</td>\n",
       "      <td>2003</td>\n",
       "      <td>12</td>\n",
       "      <td>28</td>\n",
       "      <td>7</td>\n",
       "      <td>7645</td>\n",
       "    </tr>\n",
       "    <tr>\n",
       "      <td>3649</td>\n",
       "      <td>2003</td>\n",
       "      <td>12</td>\n",
       "      <td>29</td>\n",
       "      <td>1</td>\n",
       "      <td>12823</td>\n",
       "    </tr>\n",
       "    <tr>\n",
       "      <td>3650</td>\n",
       "      <td>2003</td>\n",
       "      <td>12</td>\n",
       "      <td>30</td>\n",
       "      <td>2</td>\n",
       "      <td>14438</td>\n",
       "    </tr>\n",
       "    <tr>\n",
       "      <td>3651</td>\n",
       "      <td>2003</td>\n",
       "      <td>12</td>\n",
       "      <td>31</td>\n",
       "      <td>3</td>\n",
       "      <td>12374</td>\n",
       "    </tr>\n",
       "  </tbody>\n",
       "</table>\n",
       "<p>3652 rows × 5 columns</p>\n",
       "</div>"
      ],
      "text/plain": [
       "      year  month  date_of_month  day_of_week  births\n",
       "0     1994      1              1            6    8096\n",
       "1     1994      1              2            7    7772\n",
       "2     1994      1              3            1   10142\n",
       "3     1994      1              4            2   11248\n",
       "4     1994      1              5            3   11053\n",
       "...    ...    ...            ...          ...     ...\n",
       "3647  2003     12             27            6    8646\n",
       "3648  2003     12             28            7    7645\n",
       "3649  2003     12             29            1   12823\n",
       "3650  2003     12             30            2   14438\n",
       "3651  2003     12             31            3   12374\n",
       "\n",
       "[3652 rows x 5 columns]"
      ]
     },
     "execution_count": 6,
     "metadata": {},
     "output_type": "execute_result"
    }
   ],
   "source": [
    "#Drop rows with any column having NA/Null data\n",
    "df.dropna()"
   ]
  },
  {
   "cell_type": "code",
   "execution_count": 8,
   "metadata": {},
   "outputs": [
    {
     "data": {
      "text/plain": [
       "True"
      ]
     },
     "execution_count": 8,
     "metadata": {},
     "output_type": "execute_result"
    }
   ],
   "source": [
    "#drop the total number of rows with any columns having NA/Null data\n",
    "df.dropna().values.any()"
   ]
  },
  {
   "cell_type": "code",
   "execution_count": 9,
   "metadata": {},
   "outputs": [
    {
     "data": {
      "text/plain": [
       "False"
      ]
     },
     "execution_count": 9,
     "metadata": {},
     "output_type": "execute_result"
    }
   ],
   "source": [
    "df.isnull().values.any()"
   ]
  },
  {
   "cell_type": "code",
   "execution_count": 10,
   "metadata": {},
   "outputs": [
    {
     "data": {
      "text/plain": [
       "year             0\n",
       "month            0\n",
       "date_of_month    0\n",
       "day_of_week      0\n",
       "births           0\n",
       "dtype: int64"
      ]
     },
     "execution_count": 10,
     "metadata": {},
     "output_type": "execute_result"
    }
   ],
   "source": [
    "df.isnull().sum()"
   ]
  },
  {
   "cell_type": "code",
   "execution_count": 12,
   "metadata": {},
   "outputs": [
    {
     "data": {
      "text/plain": [
       "year              7298521\n",
       "month               23824\n",
       "date_of_month       57438\n",
       "day_of_week         14607\n",
       "births           39722137\n",
       "dtype: int64"
      ]
     },
     "execution_count": 12,
     "metadata": {},
     "output_type": "execute_result"
    }
   ],
   "source": [
    "df.dropna().sum()"
   ]
  },
  {
   "cell_type": "code",
   "execution_count": 14,
   "metadata": {},
   "outputs": [
    {
     "data": {
      "text/plain": [
       "(array([  5.,   1.,  27.,  91., 170., 144., 132., 191., 164., 101.,  66.,\n",
       "         26.,   6.,  14.,  29.,  58.,  96., 173., 293., 339., 355., 398.,\n",
       "        316., 199., 121.,  80.,  41.,  11.,   3.,   2.]),\n",
       " array([ 6443. ,  6712.9,  6982.8,  7252.7,  7522.6,  7792.5,  8062.4,\n",
       "         8332.3,  8602.2,  8872.1,  9142. ,  9411.9,  9681.8,  9951.7,\n",
       "        10221.6, 10491.5, 10761.4, 11031.3, 11301.2, 11571.1, 11841. ,\n",
       "        12110.9, 12380.8, 12650.7, 12920.6, 13190.5, 13460.4, 13730.3,\n",
       "        14000.2, 14270.1, 14540. ]),\n",
       " <a list of 30 Patch objects>)"
      ]
     },
     "execution_count": 14,
     "metadata": {},
     "output_type": "execute_result"
    },
    {
     "data": {
      "image/png": "[encoded data removed]",
      "text/plain": [
       "<Figure size 432x288 with 1 Axes>"
      ]
     },
     "metadata": {
      "needs_background": "light"
     },
     "output_type": "display_data"
    }
   ],
   "source": [
    "plt.hist(df['births'].dropna(), bins=30)"
   ]
  },
  {
   "cell_type": "code",
   "execution_count": 19,
   "metadata": {},
   "outputs": [],
   "source": [
    "df[\"year\"] = pd.to_datetime(df[\"year\"]) #convert column to datetime \n",
    "df.set_index(\"year\", inplace=True)"
   ]
  },
  {
   "cell_type": "code",
   "execution_count": 20,
   "metadata": {},
   "outputs": [
    {
     "name": "stdout",
     "output_type": "stream",
     "text": [
      "                               month  date_of_month  day_of_week  births\n",
      "year                                                                    \n",
      "1970-01-01 00:00:00.000001994      1              1            6    8096\n",
      "1970-01-01 00:00:00.000001994      1              2            7    7772\n",
      "1970-01-01 00:00:00.000001994      1              3            1   10142\n",
      "1970-01-01 00:00:00.000001994      1              4            2   11248\n",
      "1970-01-01 00:00:00.000001994      1              5            3   11053\n",
      "...                              ...            ...          ...     ...\n",
      "1970-01-01 00:00:00.000002003     12             27            6    8646\n",
      "1970-01-01 00:00:00.000002003     12             28            7    7645\n",
      "1970-01-01 00:00:00.000002003     12             29            1   12823\n",
      "1970-01-01 00:00:00.000002003     12             30            2   14438\n",
      "1970-01-01 00:00:00.000002003     12             31            3   12374\n",
      "\n",
      "[3652 rows x 4 columns]\n"
     ]
    }
   ],
   "source": [
    "print(df)"
   ]
  },
  {
   "cell_type": "code",
   "execution_count": 21,
   "metadata": {},
   "outputs": [],
   "source": [
    "df.to_csv('usbirths_cleaned.csv')"
   ]
  },
  {
   "cell_type": "code",
   "execution_count": null,
   "metadata": {},
   "outputs": [],
   "source": []
  }
 ],
 "metadata": {
  "kernelspec": {
   "display_name": "Python 3",
   "language": "python",
   "name": "python3"
  },
  "language_info": {
   "codemirror_mode": {
    "name": "ipython",
    "version": 3
   },
   "file_extension": ".py",
   "mimetype": "text/x-python",
   "name": "python",
   "nbconvert_exporter": "python",
   "pygments_lexer": "ipython3",
   "version": "3.7.4"
  }
 },
 "nbformat": 4,
 "nbformat_minor": 2
}
